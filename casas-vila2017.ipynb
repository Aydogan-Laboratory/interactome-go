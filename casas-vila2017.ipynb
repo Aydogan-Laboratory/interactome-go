{
 "cells": [
  {
   "cell_type": "code",
   "execution_count": null,
   "id": "2cd70261",
   "metadata": {},
   "outputs": [],
   "source": [
    "from pathlib import Path\n",
    "\n",
    "import numpy as np\n",
    "import pandas as pd\n",
    "import seaborn as sns\n",
    "\n",
    "%load_ext autoreload\n",
    "%autoreload 2"
   ]
  },
  {
   "cell_type": "markdown",
   "id": "e6a1c375",
   "metadata": {},
   "source": [
    "# Retrieve the data\n",
    "Download file\n",
    "ftp://ftp.pride.ebi.ac.uk/pride/data/archive/2017/04/PXD005713/txt.zip\n",
    "extract with p7zip"
   ]
  },
  {
   "cell_type": "code",
   "execution_count": null,
   "id": "c8bcd5ff",
   "metadata": {},
   "outputs": [],
   "source": [
    "# folder = Path(\"/media/lab/Data/Fabio/Dev/Python-InteractomeGO/data/dev-proteome-vila2017-PXD005713/txt/\")\n",
    "folder = Path(\"/media/fabio/fab/dev/Python-InteractomeGO/data/txt/\")"
   ]
  },
  {
   "cell_type": "code",
   "execution_count": null,
   "id": "a3229563",
   "metadata": {},
   "outputs": [],
   "source": [
    "file = folder / \"summary.txt\"\n",
    "summary = pd.read_csv(file, sep=\"\\t\", low_memory=False)\n",
    "summary"
   ]
  },
  {
   "cell_type": "code",
   "execution_count": null,
   "id": "f6652d40",
   "metadata": {},
   "outputs": [],
   "source": [
    "# list the experiments registred in the files\n",
    "summary[\"Experiment\"].unique()"
   ]
  },
  {
   "cell_type": "code",
   "execution_count": null,
   "id": "cb468d57",
   "metadata": {},
   "outputs": [],
   "source": [
    "cohort_1 = [f\"01h_{i}\" for i in range(10)]\n",
    "cohort_2 = [f\"10h_{i}\" for i in range(10)]\n",
    "c_df = summary[summary[\"Experiment\"].isin(cohort_1+cohort_2)]\n",
    "p_files = c_df[\"Raw file\"].values\n",
    "\n",
    "fc1 = summary[summary[\"Experiment\"].isin(cohort_1)][\"Raw file\"].values\n",
    "fc2 = summary[summary[\"Experiment\"].isin(cohort_2)][\"Raw file\"].values"
   ]
  },
  {
   "cell_type": "markdown",
   "id": "bbca72e3",
   "metadata": {},
   "source": [
    "### Now checking file contents to explore how the data is stored"
   ]
  },
  {
   "cell_type": "code",
   "execution_count": null,
   "id": "10b2724c",
   "metadata": {},
   "outputs": [],
   "source": [
    "file = folder / \"msms.txt\"\n",
    "df = pd.read_csv(file, sep=\"\\t\", low_memory=False)\n",
    "df"
   ]
  },
  {
   "cell_type": "code",
   "execution_count": null,
   "id": "125c5fbf",
   "metadata": {},
   "outputs": [],
   "source": [
    "file = folder / \"msScans.txt\"\n",
    "df = pd.read_csv(file, sep=\"\\t\", low_memory=False)\n",
    "df"
   ]
  },
  {
   "cell_type": "code",
   "execution_count": null,
   "id": "1677ea57",
   "metadata": {},
   "outputs": [],
   "source": [
    "file = folder / \"msmsScans.txt\"\n",
    "df = pd.read_csv(file, sep=\"\\t\", low_memory=False)\n",
    "df"
   ]
  },
  {
   "cell_type": "code",
   "execution_count": null,
   "id": "52799bc5",
   "metadata": {},
   "outputs": [],
   "source": [
    "file = folder / \"proteinGroups.txt\"\n",
    "df = pd.read_csv(file, sep=\"\\t\", low_memory=False)\n",
    "df"
   ]
  },
  {
   "cell_type": "code",
   "execution_count": null,
   "id": "77921e9a",
   "metadata": {},
   "outputs": [],
   "source": [
    "file = folder / \"peptides.txt\"\n",
    "df = pd.read_csv(file, sep=\"\\t\")\n",
    "df"
   ]
  },
  {
   "cell_type": "code",
   "execution_count": null,
   "id": "63761cff",
   "metadata": {},
   "outputs": [],
   "source": [
    "file = folder / \"allPeptides.txt\"\n",
    "df = pd.read_csv(file, sep=\"\\t\")\n",
    "df"
   ]
  },
  {
   "cell_type": "markdown",
   "id": "9bab1c44",
   "metadata": {},
   "source": [
    "My current claim is that the file that is needed to be analysed is allPeptides.txt.\n",
    "Change my mind."
   ]
  },
  {
   "cell_type": "code",
   "execution_count": null,
   "id": "f945145d",
   "metadata": {},
   "outputs": [],
   "source": [
    "# data massaging\n",
    "\n",
    "# filter the experiments that we are interested in\n",
    "peptides = df.query(\"Proteins.str.len()>1 and `Raw file`.isin(@p_files)\")\n",
    "# label cohorts in column 'group'\n",
    "ix1 = peptides[\"Raw file\"].isin(fc1) \n",
    "ix2 = peptides[\"Raw file\"].isin(fc2) \n",
    "peptides.loc[ix1, \"group\"] = \"A\"\n",
    "peptides.loc[ix2, \"group\"] = \"B\"\n",
    "# extract replicate info from structure of the file name\n",
    "peptides.loc[:, \"replicate\"] = peptides[\"Raw file\"].apply(lambda f:int(f.split(\"_\")[-1]))\n",
    "\n",
    "peptides"
   ]
  },
  {
   "cell_type": "raw",
   "id": "a88d17ab",
   "metadata": {},
   "source": [
    "peptides.Proteins.str.len()"
   ]
  },
  {
   "cell_type": "code",
   "execution_count": null,
   "id": "7cb7e67d",
   "metadata": {},
   "outputs": [],
   "source": [
    "# check how the intensity value is calculated\n",
    "# guess: average of topN entries\n",
    "# conclusion: is not TopN\n",
    "N = 10\n",
    "ix = 3\n",
    "\n",
    "# load array of intensities into numpy array\n",
    "peptides.loc[:, \"Intensities\"] = peptides[\"Intensities\"].apply(lambda i:np.fromstring(i, sep=';'))\n",
    "\n",
    "r = peptides.iloc[ix]\n",
    "intensities = sorted(r.Intensities, reverse=True)\n",
    "i_guess = np.mean(intensities[:N])\n",
    "print(intensities)\n",
    "print(f\"\\n{r.Intensity:0.2f} {i_guess:0.2f} e={r.Intensity-i_guess:0.2f}\")\n",
    "print(f\"\\n{np.mean(r.Intensities):0.2f}\")"
   ]
  },
  {
   "cell_type": "code",
   "execution_count": null,
   "id": "eb408aea",
   "metadata": {},
   "outputs": [],
   "source": [
    "# transform data into log2\n",
    "peptides.loc[:, \"log2_int\"] = np.log2(peptides[\"Intensity\"])\n",
    "\n",
    "ax = sns.histplot(data=peptides, x=\"log2_int\", hue=\"group\", bins=30)\n",
    "# ax.set_xlim([0,1e13])"
   ]
  },
  {
   "cell_type": "code",
   "execution_count": null,
   "id": "c5548403",
   "metadata": {},
   "outputs": [],
   "source": [
    "peptides.groupby([\"Proteins\"]).size()"
   ]
  },
  {
   "cell_type": "code",
   "execution_count": null,
   "id": "b63d7c18",
   "metadata": {},
   "outputs": [],
   "source": [
    "r = (peptides\n",
    "     .groupby([\"Proteins\",])\n",
    "    )"
   ]
  }
 ],
 "metadata": {
  "kernelspec": {
   "display_name": "Python 3 (ipykernel)",
   "language": "python",
   "name": "python3"
  },
  "language_info": {
   "codemirror_mode": {
    "name": "ipython",
    "version": 3
   },
   "file_extension": ".py",
   "mimetype": "text/x-python",
   "name": "python",
   "nbconvert_exporter": "python",
   "pygments_lexer": "ipython3",
   "version": "3.8.10"
  }
 },
 "nbformat": 4,
 "nbformat_minor": 5
}
